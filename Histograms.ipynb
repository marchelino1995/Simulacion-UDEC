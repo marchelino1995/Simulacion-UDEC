{
 "cells": [
  {
   "cell_type": "code",
   "execution_count": 1,
   "metadata": {
    "collapsed": true
   },
   "outputs": [],
   "source": [
    "import matplotlib.pyplot as plt\n",
    "import os\n",
    "import seaborn as sns\n",
    "import numpy as np\n",
    "from scipy.stats import beta, uniform, triang, norm, gamma, erlang, lognorm, weibull_min\n",
    "from scipy.stats import histogram\n",
    "from matplotlib import pyplot as plt\n",
    "#TODO\n",
    "sns.set(context='talk',style='whitegrid',font='serif')\n",
    "from matplotlib import rc\n",
    "rc('text', usetex=True)\n",
    "plt.rc('font', family='serif') "
   ]
  },
  {
   "cell_type": "code",
   "execution_count": 21,
   "metadata": {},
   "outputs": [
    {
     "name": "stderr",
     "output_type": "stream",
     "text": [
      "/Users/rodrigodelafuente/anaconda/lib/python3.4/site-packages/matplotlib/axes/_axes.py:475: UserWarning: No labelled objects found. Use label='...' kwarg on individual plots.\n",
      "  warnings.warn(\"No labelled objects found. \"\n"
     ]
    }
   ],
   "source": [
    "np.random.seed(300)\n",
    "alpha_ = 1.5\n",
    "beta_ = 5\n",
    "r = beta.rvs(alpha_, beta_, size=1000)\n",
    "\n",
    "fig, ax = plt.subplots(figsize=(7,7))\n",
    "#np.histogram(r, bins='auto')\n",
    "\n",
    "\n",
    "ax.hist(r, bins='scott',alpha=0.5, normed=True)\n",
    "# otras reglas para los bins: 'auto','fd','scott','rice','sturges','doane','sqrt'\n",
    "# http://docs.scipy.org/doc/numpy-dev/reference/generated/numpy.histogram.html\n",
    "\n",
    "rv = beta(alpha_,beta_)\n",
    "x = np.linspace(0,1.5,1000)\n",
    "ax.plot(x, rv.pdf(x), 'r-',lw=2)\n",
    "\n",
    "\n",
    "ax.set_ylim(-0.01,4)\n",
    "ax.set_xlim(-0.01,1.5)\n",
    "\n",
    "plt.xlabel('$x$')\n",
    "plt.ylabel(r'$Frecuencia$')\n",
    "plt.title(r'Histograma - Beta(1.5,5)_{1000}')\n",
    "\n",
    "plt.legend(loc='best')\n",
    "fig.savefig('histBeta15_5Scott.pdf')\n",
    "plt.show()"
   ]
  },
  {
   "cell_type": "code",
   "execution_count": 23,
   "metadata": {
    "collapsed": true
   },
   "outputs": [],
   "source": [
    "import matplotlib.pyplot as plt\n",
    "rng = np.random.RandomState(10)  # deterministic random data\n",
    "a = np.hstack((rng.normal(size=1000),rng.normal(loc=5, scale=2, size=1000)))\n",
    "plt.hist(a, bins='auto',alpha=0.5, normed=True)  # plt.hist passes it's arguments to np.histogram\n",
    "plt.title(\"Histograma de datos Multimodales\")\n",
    "plt.xlabel('$x$')\n",
    "plt.ylabel(r'$Frecuencia$')\n",
    "plt.show()"
   ]
  },
  {
   "cell_type": "code",
   "execution_count": null,
   "metadata": {
    "collapsed": true
   },
   "outputs": [],
   "source": []
  }
 ],
 "metadata": {
  "kernelspec": {
   "display_name": "Python 3",
   "language": "python",
   "name": "python3"
  },
  "language_info": {
   "codemirror_mode": {
    "name": "ipython",
    "version": 3
   },
   "file_extension": ".py",
   "mimetype": "text/x-python",
   "name": "python",
   "nbconvert_exporter": "python",
   "pygments_lexer": "ipython3",
   "version": "3.5.4"
  }
 },
 "nbformat": 4,
 "nbformat_minor": 1
}
