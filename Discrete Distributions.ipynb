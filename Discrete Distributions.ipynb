{
 "cells": [
  {
   "cell_type": "markdown",
   "metadata": {},
   "source": [
    "# Librerías necesarias que se deben importar"
   ]
  },
  {
   "cell_type": "code",
   "execution_count": 5,
   "metadata": {},
   "outputs": [],
   "source": [
    "import numpy as np\n",
    "import matplotlib.pyplot as plt\n",
    "import scipy.stats as stats\n",
    "from ipywidgets import widgets\n",
    "from IPython.display import display"
   ]
  },
  {
   "source": [
    "Todas las distribuiones utilizadas en este notebook provienen de [scipy.stats] (https://docs.scipy.org/doc/scipy/reference/stats.html)"
   ],
   "cell_type": "markdown",
   "metadata": {}
  },
  {
   "source": [
    "# Gráfico interactivo de una [distribución Bernulli](https://en.wikipedia.org/wiki/Bernoulli_distribution)"
   ],
   "cell_type": "markdown",
   "metadata": {}
  },
  {
   "cell_type": "code",
   "execution_count": 6,
   "metadata": {},
   "outputs": [
    {
     "output_type": "display_data",
     "data": {
      "text/plain": "interactive(children=(FloatSlider(value=0.5, continuous_update=False, description='p :', max=1.0, min=0.1, ste…",
      "application/vnd.jupyter.widget-view+json": {
       "version_major": 2,
       "version_minor": 0,
       "model_id": "19e74745940e491d999c6de5ff12d831"
      }
     },
     "metadata": {}
    }
   ],
   "source": [
    "# Graficando Bernoulli\n",
    "def interactive_bernulli(p):\n",
    "    \"\"\"\n",
    "    In probability theory and statistics, the Bernoulli distribution is the discrete probability distribution of a          random variable which takes the value 1 with probability p and the value 0 with probability q=1-p\n",
    "\n",
    "    p: probability of success\n",
    "    \"\"\"\n",
    "    plt.figure(figsize=(5,5))\n",
    "    bernulli = stats.bernoulli(p)\n",
    "    x = np.arange(-1, 3)\n",
    "    fmp = bernulli.pmf(x) # Función de Masa de Probabilidad\n",
    "    plt.plot(x, fmp, 'bo')\n",
    "    plt.vlines(x, 0, fmp, colors='b', lw=5, alpha=0.5)\n",
    "    plt.title('Distribución Bernulli')\n",
    "    plt.ylabel('probabilidad')\n",
    "    plt.xlabel('valores')\n",
    "    plt.show()\n",
    "    \n",
    "input1Float = widgets.FloatSlider(value=0.5, min=0.1, max=1, step=0.01, description=\"p :\", orientation=\"horizontal\",continuous_update=False)\n",
    "\n",
    "widgets.interactive(interactive_bernulli, p =input1Float)"
   ]
  },
  {
   "cell_type": "code",
   "execution_count": 7,
   "metadata": {},
   "outputs": [
    {
     "output_type": "display_data",
     "data": {
      "text/plain": "interactive(children=(FloatSlider(value=0.5, continuous_update=False, description='p :', max=1.0, min=0.1, ste…",
      "application/vnd.jupyter.widget-view+json": {
       "version_major": 2,
       "version_minor": 0,
       "model_id": "359a7f3d0f4c44ffad1651bcc21d873f"
      }
     },
     "metadata": {}
    }
   ],
   "source": [
    "# histograma bernulli\n",
    "def interactive_bernulli_histogram(p,samples,bins):\n",
    "    plt.figure(figsize=(5,5))\n",
    "    bernulli = stats.bernoulli(p)\n",
    "    aleatorios = bernulli.rvs(samples)\n",
    "    cuenta, cajas, ignorar = plt.hist(aleatorios, bins)\n",
    "    plt.ylabel('frequencia')\n",
    "    plt.xlabel('valores')\n",
    "    plt.title('Histograma Bernulli')\n",
    "    plt.show()\n",
    "    \n",
    "input1Float = widgets.FloatSlider(value=0.5, min=0.1, max=1, step=0.01, description=\"p :\", orientation=\"horizontal\",continuous_update=False)\n",
    "input2Float = widgets.IntSlider(value=200, min=50, max=1000, step=1, description=\"samples :\", orientation=\"horizontal\", readout=True,\n",
    "                readout_format='d',disabled=False, continuous_update=False)\n",
    "input3Float = widgets.IntSlider(value=10, min=5, max=50, step=1, description=\"bins :\", orientation=\"horizontal\", readout=True,\n",
    "                readout_format='d',disabled=False, continuous_update=False)\n",
    "\n",
    "widgets.interactive(interactive_bernulli_histogram, p=input1Float, samples=input2Float,bins=input3Float)"
   ]
  },
  {
   "cell_type": "markdown",
   "metadata": {},
   "source": [
    "# Gráfico interactivo de una [distribución Binomial](https://en.wikipedia.org/wiki/Binomial_distribution)"
   ]
  },
  {
   "cell_type": "code",
   "execution_count": 8,
   "metadata": {},
   "outputs": [
    {
     "output_type": "display_data",
     "data": {
      "text/plain": "interactive(children=(IntSlider(value=20, continuous_update=False, description='n :', max=30, min=2), FloatSli…",
      "application/vnd.jupyter.widget-view+json": {
       "version_major": 2,
       "version_minor": 0,
       "model_id": "ba44d6fc008647f8829ad71c82effe49"
      }
     },
     "metadata": {}
    }
   ],
   "source": [
    "# Graficando FMP\n",
    "def interactive_binomial(n, p):\n",
    "    \"\"\"\n",
    "    In probability theory and statistics, the binomial distribution with parameters n and p, is the discrete             probability distribution of the number of successes in a sequence of n independent experiments with success\n",
    "    probability p\n",
    "\n",
    "    n: number of independent trails\n",
    "    p: probability of success\n",
    "    \"\"\"\n",
    "    plt.figure(figsize=(5,5))\n",
    "    x = np.arange(stats.binom.ppf(0.001, n, p), #ppf: Percent Point Function (Inverse of CDF)\n",
    "              stats.binom.ppf(0.999, n, p))\n",
    "    fmp = stats.binom.pmf(x, n, p) # Función de Masa de Probabilidad\n",
    "    plt.plot(x, fmp, '--')\n",
    "    plt.vlines(x, 0, fmp, colors='b', lw=5, alpha=0.5)\n",
    "    plt.title('Función de Masa de Probabilidad')\n",
    "    plt.ylabel('probabilidad')\n",
    "    plt.xlabel('valores')\n",
    "    plt.show()\n",
    "    \n",
    "input1Float = widgets.FloatSlider(value=0.3, min=0.01, max=0.99, step=0.01, description=\"p :\", orientation=\"horizontal\",continuous_update=False)\n",
    "input2Float = widgets.IntSlider(value=20, min=2, max=30, step=1, description=\"n :\", orientation=\"horizontal\", readout=True,\n",
    "                readout_format='d',disabled=False, continuous_update=False)\n",
    "\n",
    "#Remember to activate jupyter nbextension enable --py widgetsnbextension\n",
    "widgets.interactive(interactive_binomial, p=input1Float, n=input2Float)"
   ]
  },
  {
   "cell_type": "code",
   "execution_count": 12,
   "metadata": {},
   "outputs": [
    {
     "data": {
      "application/vnd.jupyter.widget-view+json": {
       "model_id": "eb5593166c7949f3be84c50a74869c48",
       "version_major": 2,
       "version_minor": 0
      },
      "text/html": [
       "<p>Failed to display Jupyter Widget of type <code>interactive</code>.</p>\n",
       "<p>\n",
       "  If you're reading this message in the Jupyter Notebook or JupyterLab Notebook, it may mean\n",
       "  that the widgets JavaScript is still loading. If this message persists, it\n",
       "  likely means that the widgets JavaScript library is either not installed or\n",
       "  not enabled. See the <a href=\"https://ipywidgets.readthedocs.io/en/stable/user_install.html\">Jupyter\n",
       "  Widgets Documentation</a> for setup instructions.\n",
       "</p>\n",
       "<p>\n",
       "  If you're reading this message in another frontend (for example, a static\n",
       "  rendering on GitHub or <a href=\"https://nbviewer.jupyter.org/\">NBViewer</a>),\n",
       "  it may mean that your frontend doesn't currently support widgets.\n",
       "</p>\n"
      ],
      "text/plain": [
       "interactive(children=(IntSlider(value=20, continuous_update=False, description='n :', max=30, min=2), FloatSlider(value=0.5, continuous_update=False, description='p :', max=1.0, min=0.1, step=0.01), IntSlider(value=200, continuous_update=False, description='samples :', max=1000, min=50), IntSlider(value=10, continuous_update=False, description='bins :', max=50, min=5), Output()), _dom_classes=('widget-interact',))"
      ]
     },
     "metadata": {},
     "output_type": "display_data"
    }
   ],
   "source": [
    "# histograma binomial\n",
    "def interactive_binomial_histogram(n, p,samples,bins):\n",
    "    plt.figure(figsize=(5,5))\n",
    "    bernulli = stats.binom(n,p)\n",
    "    aleatorios = bernulli.rvs(samples)\n",
    "    cuenta, cajas, ignorar = plt.hist(aleatorios, bins)\n",
    "    plt.ylabel('frequencia')\n",
    "    plt.xlabel('valores')\n",
    "    plt.title('Histograma Bernulli')\n",
    "    plt.show()\n",
    "\n",
    "input0Int = widgets.IntSlider(value=20, min=2, max=30, step=1, description=\"n :\", orientation=\"horizontal\", readout=True,\n",
    "                readout_format='d',disabled=False, continuous_update=False)\n",
    "input1Float = widgets.FloatSlider(value=0.5, min=0.1, max=1, step=0.01, description=\"p :\", orientation=\"horizontal\",continuous_update=False)\n",
    "input2Float = widgets.IntSlider(value=200, min=50, max=1000, step=1, description=\"samples :\", orientation=\"horizontal\", readout=True,\n",
    "                readout_format='d',disabled=False, continuous_update=False)\n",
    "input3Float = widgets.IntSlider(value=10, min=5, max=50, step=1, description=\"bins :\", orientation=\"horizontal\", readout=True,\n",
    "                readout_format='d',disabled=False, continuous_update=False)\n",
    "\n",
    "widgets.interactive(interactive_binomial_histogram, n=input0Int, p=input1Float, samples=input2Float,bins=input3Float)"
   ]
  },
  {
   "source": [
    "# Gráfico interactivo de una distribución [Uniforme Discreta](https://en.wikipedia.org/wiki/Discrete_uniform_distribution)"
   ],
   "cell_type": "markdown",
   "metadata": {}
  },
  {
   "cell_type": "code",
   "execution_count": 12,
   "metadata": {},
   "outputs": [
    {
     "output_type": "display_data",
     "data": {
      "text/plain": "interactive(children=(IntSlider(value=0, continuous_update=False, description='low :', max=5), IntSlider(value…",
      "application/vnd.jupyter.widget-view+json": {
       "version_major": 2,
       "version_minor": 0,
       "model_id": "5d75073e22e5462e8484af1095f13348"
      }
     },
     "metadata": {}
    }
   ],
   "source": [
    "# Graficando Uniforme Discreta\n",
    "def interactive_uniforme_discreta(low, high):\n",
    "    '''\n",
    "    In probability theory and statistics, the discrete uniform distribution is a symmetric probability distribution      wherein a finite number of values are equally likely to be observed; every one of n values has equal probability     1/n\n",
    "\n",
    "    low: lower discrete value observed\n",
    "    high: higher value observed\n",
    "    '''\n",
    "    plt.figure(figsize=(5,5))\n",
    "    unif_discrete = stats.randint(low, high)\n",
    "    x = np.arange(unif_discrete.ppf(0.01), unif_discrete.ppf(0.99))\n",
    "    fmp = unif_discrete.pmf(x) # Función de Masa de Probabilidad\n",
    "    plt.plot(x, fmp, '--')\n",
    "    plt.vlines(x, 0, fmp, colors='b', lw=5, alpha=0.5)\n",
    "    plt.title('Distribución Uniforme Discreta')\n",
    "    plt.ylabel('probabilidad')\n",
    "    plt.xlabel('valores')\n",
    "    plt.show()\n",
    "    \n",
    "input1Float = widgets.IntSlider(value=0, min=0, max=5, step=1, description=\"low :\", orientation=\"horizontal\",continuous_update=False)\n",
    "\n",
    "input2Float = widgets.IntSlider(value=6, min=6, max=10, step=1, description=\"high :\", orientation=\"horizontal\",continuous_update=False)\n",
    "\n",
    "widgets.interactive(interactive_uniforme_discreta, low = input1Float, high = input2Float)"
   ]
  },
  {
   "cell_type": "markdown",
   "metadata": {},
   "source": [
    "# Gráfico interactivo de una [distribución Geométrica](https://en.wikipedia.org/wiki/Geometric_distribution)"
   ]
  },
  {
   "cell_type": "code",
   "execution_count": 13,
   "metadata": {},
   "outputs": [
    {
     "output_type": "display_data",
     "data": {
      "text/plain": "interactive(children=(FloatSlider(value=0.5, continuous_update=False, description='p :', max=1.0, min=0.1, ste…",
      "application/vnd.jupyter.widget-view+json": {
       "version_major": 2,
       "version_minor": 0,
       "model_id": "782c80679127415a9b60a13610c18a6a"
      }
     },
     "metadata": {}
    }
   ],
   "source": [
    "# Graficando Geométrica\n",
    "def interactive_geometrica(p):\n",
    "    \"\"\"\n",
    "    In probability theory and statistics, the geometric distribution is either of two discrete probability               distributions:\n",
    "\n",
    "    The probability distribution of the number X of Bernoulli trials needed to get one success, supported on the set     { 1, 2, 3, ... }\n",
    "    The probability distribution of the number Y = X − 1 of failures before the first success, supported on the set      { 0, 1, 2, 3, ... }\n",
    "\n",
    "    p: probability of success\n",
    "    \"\"\"\n",
    "    plt.figure(figsize=(5,5))\n",
    "    geometrica = stats.geom(p)\n",
    "    x = np.arange(geometrica.ppf(0.01),\n",
    "              geometrica.ppf(0.99))\n",
    "    fmp = geometrica.pmf(x) # Función de Masa de Probabilidad\n",
    "    plt.plot(x, fmp, '--')\n",
    "    plt.vlines(x, 0, fmp, colors='b', lw=5, alpha=0.5)\n",
    "    plt.title('Distribución Geométrica')\n",
    "    plt.ylabel('probabilidad')\n",
    "    plt.xlabel('valores')\n",
    "    plt.show()\n",
    "    \n",
    "input1Float = widgets.FloatSlider(value=0.5, min=0.1, max=1, step=0.01, description=\"p :\", orientation=\"horizontal\",continuous_update=False)\n",
    "\n",
    "widgets.interactive(interactive_geometrica, p =input1Float)"
   ]
  },
  {
   "cell_type": "code",
   "execution_count": 14,
   "metadata": {},
   "outputs": [
    {
     "output_type": "display_data",
     "data": {
      "text/plain": "interactive(children=(FloatSlider(value=0.5, continuous_update=False, description='p :', max=0.99, min=0.01, s…",
      "application/vnd.jupyter.widget-view+json": {
       "version_major": 2,
       "version_minor": 0,
       "model_id": "ade2fd365e914eb885bdbc7684f40969"
      }
     },
     "metadata": {}
    }
   ],
   "source": [
    "# Graficando Geometrica\n",
    "def interactive_geometric_histogram(p,samples,bins):\n",
    "    plt.figure(figsize=(5,5))\n",
    "    geometrica = stats.geom(p)\n",
    "    aleatorios = geometrica.rvs(samples)\n",
    "    cuenta, cajas, ignorar = plt.hist(aleatorios, bins)\n",
    "    plt.ylabel('frequencia')\n",
    "    plt.xlabel('valores')\n",
    "    plt.title('Histograma Geometrica')\n",
    "    plt.show()\n",
    "    \n",
    "input1Float = widgets.FloatSlider(value=0.5, min=0.01, max=0.99, step=0.01, description=\"p :\", orientation=\"horizontal\",continuous_update=False)\n",
    "input2Float = widgets.IntSlider(value=200, min=50, max=1000, step=1, description=\"samples :\", orientation=\"horizontal\", readout=True,\n",
    "                readout_format='d',disabled=False, continuous_update=False)\n",
    "input3Float = widgets.IntSlider(value=10, min=5, max=50, step=1, description=\"bins :\", orientation=\"horizontal\", readout=True,\n",
    "                readout_format='d',disabled=False, continuous_update=False)\n",
    "\n",
    "widgets.interactive(interactive_geometric_histogram, p=input1Float, samples=input2Float,bins=input3Float)"
   ]
  },
  {
   "source": [
    "# Gráfico interactivo de una distribución [Binomial Negativa] (https://en.wikipedia.org/wiki/Negative_binomial_distribution)"
   ],
   "cell_type": "markdown",
   "metadata": {}
  },
  {
   "cell_type": "code",
   "execution_count": 19,
   "metadata": {},
   "outputs": [
    {
     "output_type": "display_data",
     "data": {
      "text/plain": "interactive(children=(IntSlider(value=20, continuous_update=False, description='r :', max=30, min=2), FloatSli…",
      "application/vnd.jupyter.widget-view+json": {
       "version_major": 2,
       "version_minor": 0,
       "model_id": "e239d991c4c24a66ba54e83fe6dd0851"
      }
     },
     "metadata": {}
    }
   ],
   "source": [
    "# Graficando FMP\n",
    "def interactive_neg_binomial(r, p):\n",
    "    \"\"\"\n",
    "    Description: Negative binomial distribution describes a sequence of i.i.d. Bernoulli trials, repeated until a                   predefined, non-random number of successes occurs.\n",
    "    r: the number of successes \n",
    "    p: the probability of success\n",
    "    \"\"\"\n",
    "    plt.figure(figsize=(5,5))\n",
    "    x = np.arange(stats.nbinom.ppf(0.001, r, p), #ppf: Percent Point Function (Inverse of CDF)\n",
    "              stats.nbinom.ppf(0.999, r, p))\n",
    "    print(x)\n",
    "    neg_binom = stats.nbinom.pmf(x, r, p) # Función de Masa de Probabilidad\n",
    "    plt.plot(x, neg_binom, '--')\n",
    "    plt.vlines(x, 0, neg_binom, colors='b', lw=5, alpha=0.5)\n",
    "    plt.title('Función de Masa de Probabilidad del número de fallas')\n",
    "    plt.ylabel('probabilidad')\n",
    "    plt.xlabel('Número de fallas')\n",
    "    plt.show()\n",
    "    \n",
    "input1Float = widgets.FloatSlider(value=0.3, min=0.01, max=0.99, step=0.01, description=\"p :\", orientation=\"horizontal\",continuous_update=False)\n",
    "input2Float = widgets.IntSlider(value=20, min=2, max=30, step=1, description=\"r :\", orientation=\"horizontal\", readout=True,\n",
    "                readout_format='d',disabled=False, continuous_update=False)\n",
    "\n",
    "#Remember to activate jupyter nbextension enable --py widgetsnbextension\n",
    "widgets.interactive(interactive_neg_binomial, p=input1Float, r=input2Float)"
   ]
  },
  {
   "cell_type": "markdown",
   "metadata": {},
   "source": [
    "# Gráfico interactivo de una [distribución Hypergeométrica](https://en.wikipedia.org/wiki/Hypergeometric_distribution)"
   ]
  },
  {
   "cell_type": "code",
   "execution_count": 14,
   "metadata": {},
   "outputs": [
    {
     "data": {
      "application/vnd.jupyter.widget-view+json": {
       "model_id": "b9a59a3ee7ce4c2d924b9a8d0ff34afc",
       "version_major": 2,
       "version_minor": 0
      },
      "text/html": [
       "<p>Failed to display Jupyter Widget of type <code>interactive</code>.</p>\n",
       "<p>\n",
       "  If you're reading this message in the Jupyter Notebook or JupyterLab Notebook, it may mean\n",
       "  that the widgets JavaScript is still loading. If this message persists, it\n",
       "  likely means that the widgets JavaScript library is either not installed or\n",
       "  not enabled. See the <a href=\"https://ipywidgets.readthedocs.io/en/stable/user_install.html\">Jupyter\n",
       "  Widgets Documentation</a> for setup instructions.\n",
       "</p>\n",
       "<p>\n",
       "  If you're reading this message in another frontend (for example, a static\n",
       "  rendering on GitHub or <a href=\"https://nbviewer.jupyter.org/\">NBViewer</a>),\n",
       "  it may mean that your frontend doesn't currently support widgets.\n",
       "</p>\n"
      ],
      "text/plain": [
       "interactive(children=(IntSlider(value=30, continuous_update=False, description='M :', max=40, min=20), IntSlider(value=10, continuous_update=False, description='n :', max=20), IntSlider(value=12, continuous_update=False, description='N :', max=30), Output()), _dom_classes=('widget-interact',))"
      ]
     },
     "metadata": {},
     "output_type": "display_data"
    }
   ],
   "source": [
    "# Graficando Hipergeométrica\n",
    "def interactive_hypergeometric(N,n,K):\n",
    "    '''\n",
    "    In probability theory and statistics, the hypergeometric distribution is a discrete probability distribution         that describes the probability of k successes (random draws for which the object drawn has a specified feature)      in n draws, without replacement, from a finite population of size N that contains exactly K objects with that        feature, wherein each draw is either a success or a failure. In contrast, the binomial distribution describes        the probability of k successes in n draws with replacement.\n",
    "\n",
    "    N: Total population\n",
    "    n: number of draws\n",
    "    K: object with the desired feature\n",
    "    '''\n",
    "    plt.figure(figsize=(5,5))\n",
    "    hipergeometrica = stats.hypergeom(N, n, K) # Distribución\n",
    "    x = np.arange(0, n+1)\n",
    "    fmp = hipergeometrica.pmf(x) # Función de Masa de Probabilidad\n",
    "    plt.plot(x, fmp, '--')\n",
    "    plt.vlines(x, 0, fmp, colors='b', lw=5, alpha=0.5)\n",
    "    plt.title('Distribución Hipergeométrica')\n",
    "    plt.ylabel('probabilidad')\n",
    "    plt.xlabel('valores')\n",
    "    plt.show()\n",
    "    \n",
    "N=20\n",
    "M=30\n",
    "input1Int = widgets.IntSlider(value=30, min=20, max=40, step=1, description=\"M :\", orientation=\"horizontal\", readout=True,\n",
    "                readout_format='d',disabled=False, continuous_update=False)\n",
    "input2Int = widgets.IntSlider(value=10, min=0, max=N, step=1, description=\"n :\", orientation=\"horizontal\", readout=True,\n",
    "                readout_format='d',disabled=False, continuous_update=False)\n",
    "input3Int = widgets.IntSlider(value=12, min=0, max=max(N,M), step=1, description=\"N :\", orientation=\"horizontal\", readout=True,\n",
    "                readout_format='d',disabled=False, continuous_update=False)\n",
    "widgets.interactive(interactive_hypergeometric, M = input1Int, n=input2Int, N=input3Int)"
   ]
  },
  {
   "cell_type": "code",
   "execution_count": 13,
   "metadata": {},
   "outputs": [
    {
     "data": {
      "application/vnd.jupyter.widget-view+json": {
       "model_id": "b6fa7200fb8a469c9c72a9976c316a36",
       "version_major": 2,
       "version_minor": 0
      },
      "text/html": [
       "<p>Failed to display Jupyter Widget of type <code>interactive</code>.</p>\n",
       "<p>\n",
       "  If you're reading this message in the Jupyter Notebook or JupyterLab Notebook, it may mean\n",
       "  that the widgets JavaScript is still loading. If this message persists, it\n",
       "  likely means that the widgets JavaScript library is either not installed or\n",
       "  not enabled. See the <a href=\"https://ipywidgets.readthedocs.io/en/stable/user_install.html\">Jupyter\n",
       "  Widgets Documentation</a> for setup instructions.\n",
       "</p>\n",
       "<p>\n",
       "  If you're reading this message in another frontend (for example, a static\n",
       "  rendering on GitHub or <a href=\"https://nbviewer.jupyter.org/\">NBViewer</a>),\n",
       "  it may mean that your frontend doesn't currently support widgets.\n",
       "</p>\n"
      ],
      "text/plain": [
       "interactive(children=(IntSlider(value=30, continuous_update=False, description='M :', max=40, min=20), IntSlider(value=10, continuous_update=False, description='n :', max=20), IntSlider(value=12, continuous_update=False, description='N :', max=30), IntSlider(value=200, continuous_update=False, description='Samples :', max=1000, min=50), IntSlider(value=12, continuous_update=False, description='bins :', max=30, min=5), Output()), _dom_classes=('widget-interact',))"
      ]
     },
     "metadata": {},
     "output_type": "display_data"
    }
   ],
   "source": [
    "# histograma hypergeometric\n",
    "def interactive_hypergeometric_histogram(M,n,N,samples,bins):\n",
    "    hipergeometrica = stats.hypergeom(M, n, N) \n",
    "    plt.figure(figsize=(5,5))\n",
    "    aleatorios = hipergeometrica.rvs(samples)\n",
    "    cuenta, cajas, ignorar = plt.hist(aleatorios, bins)\n",
    "    plt.ylabel('frequency')\n",
    "    plt.xlabel('values')\n",
    "    plt.title('Histogram Hypergoemetric')\n",
    "    plt.show()\n",
    "    \n",
    "input1Int = widgets.IntSlider(value=30, min=20, max=40, step=1, description=\"M :\", orientation=\"horizontal\", readout=True,\n",
    "                readout_format='d',disabled=False, continuous_update=False)\n",
    "input2Int = widgets.IntSlider(value=10, min=0, max=N, step=1, description=\"n :\", orientation=\"horizontal\", readout=True,\n",
    "                readout_format='d',disabled=False, continuous_update=False)\n",
    "input3Int = widgets.IntSlider(value=12, min=0, max=M, step=1, description=\"N :\", orientation=\"horizontal\", readout=True,\n",
    "                readout_format='d',disabled=False, continuous_update=False)\n",
    "input4Int = widgets.IntSlider(value=200, min=50, max=1000, step=1, description=\"Samples :\", orientation=\"horizontal\", readout=True,\n",
    "                readout_format='d',disabled=False, continuous_update=False)\n",
    "input5Int = widgets.IntSlider(value=12, min=5, max=30, step=1, description=\"bins :\", orientation=\"horizontal\", readout=True,\n",
    "                readout_format='d',disabled=False, continuous_update=False)\n",
    "widgets.interactive(interactive_hypergeometric_histogram, M = input1Int, n=input2Int, N=input3Int, samples = input4Int, bins = input5Int)"
   ]
  },
  {
   "cell_type": "markdown",
   "metadata": {},
   "source": [
    "# Gráfico interactivo de una [distribución Poisson](https://en.wikipedia.org/wiki/Poisson_distribution)"
   ]
  },
  {
   "cell_type": "code",
   "execution_count": 21,
   "metadata": {},
   "outputs": [
    {
     "output_type": "display_data",
     "data": {
      "text/plain": "interactive(children=(FloatSlider(value=3.0, continuous_update=False, description='mu :', max=10.0, min=0.1), …",
      "application/vnd.jupyter.widget-view+json": {
       "version_major": 2,
       "version_minor": 0,
       "model_id": "e0e82ad6d2d442f38051e3bfa4a1c7af"
      }
     },
     "metadata": {}
    }
   ],
   "source": [
    "# Graficando Poisson\n",
    "def interactive_poisson(mu):\n",
    "    '''\n",
    "    In probability theory and statistics, the Poisson distribution is a discrete probability distribution that           expresses the probability of a given number of events occurring in a fixed interval of time or space if these        events occur with a known constant mean rate and independently of the time since the last event.\n",
    "\n",
    "    mu: mean rate e.g. people/hour\n",
    "    '''\n",
    "    plt.figure(figsize=(5,5))\n",
    "    poisson = stats.poisson(mu)\n",
    "    x = np.arange(poisson.ppf(0.01),\n",
    "              poisson.ppf(0.99))\n",
    "    fmp = poisson.pmf(x)\n",
    "    plt.plot(x, fmp, '--')\n",
    "    plt.vlines(x, 0, fmp, colors='b', lw=5, alpha=0.5)\n",
    "    plt.title('Distribución Poisson')\n",
    "    plt.ylabel('probabilidad')\n",
    "    plt.xlabel('Número de llegadas')\n",
    "    plt.show()\n",
    "    \n",
    "input1Float = widgets.FloatSlider(value=3, min=0.1, max=10, step=0.1, description=\"mu :\", orientation=\"horizontal\",continuous_update=False)\n",
    "\n",
    "#Remember to activate jupyter nbextension enable --py widgetsnbextension\n",
    "widgets.interactive(interactive_poisson, mu=input1Float)"
   ]
  },
  {
   "cell_type": "code",
   "execution_count": 23,
   "metadata": {},
   "outputs": [
    {
     "output_type": "display_data",
     "data": {
      "text/plain": "interactive(children=(FloatSlider(value=3.0, continuous_update=False, description='mu :', max=10.0, min=0.1), …",
      "application/vnd.jupyter.widget-view+json": {
       "version_major": 2,
       "version_minor": 0,
       "model_id": "dec704c9ee324239a5f45f29ad0ac18a"
      }
     },
     "metadata": {}
    }
   ],
   "source": [
    "# Graficando Poisson\n",
    "def interactive_poisson_histogram(mu,samples,bins):\n",
    "    plt.figure(figsize=(5,5))\n",
    "    poisson = stats.poisson(mu)\n",
    "    aleatorios = poisson.rvs(samples)\n",
    "    cuenta, cajas, ignorar = plt.hist(aleatorios, bins)\n",
    "    plt.ylabel('frequencia')\n",
    "    plt.xlabel('valores')\n",
    "    plt.title('Histograma Poisson')\n",
    "    plt.show()\n",
    "    \n",
    "input1Float = widgets.FloatSlider(value=3, min=0.1, max=10, step=0.1, description=\"mu :\", orientation=\"horizontal\",continuous_update=False)\n",
    "input2Float = widgets.IntSlider(value=200, min=50, max=1000, step=1, description=\"samples :\", orientation=\"horizontal\", readout=True,\n",
    "                readout_format='d',disabled=False, continuous_update=False)\n",
    "input3Float = widgets.IntSlider(value=10, min=5, max=50, step=1, description=\"bins :\", orientation=\"horizontal\", readout=True,\n",
    "                readout_format='d',disabled=False, continuous_update=False)\n",
    "\n",
    "widgets.interactive(interactive_poisson_histogram, mu=input1Float, samples=input2Float,bins=input3Float)"
   ]
  },
  {
   "cell_type": "code",
   "execution_count": null,
   "metadata": {},
   "outputs": [],
   "source": []
  }
 ],
 "metadata": {
  "kernelspec": {
   "display_name": "Python 3",
   "language": "python",
   "name": "python3"
  },
  "language_info": {
   "codemirror_mode": {
    "name": "ipython",
    "version": 3
   },
   "file_extension": ".py",
   "mimetype": "text/x-python",
   "name": "python",
   "nbconvert_exporter": "python",
   "pygments_lexer": "ipython3",
   "version": "3.7.6-final"
  }
 },
 "nbformat": 4,
 "nbformat_minor": 2
}