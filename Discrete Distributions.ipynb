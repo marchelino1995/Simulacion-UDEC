{
 "cells": [
  {
   "cell_type": "markdown",
   "metadata": {},
   "source": [
    "# Librerías necesarias que se deben importar"
   ]
  },
  {
   "cell_type": "code",
   "execution_count": 5,
   "metadata": {},
   "outputs": [],
   "source": [
    "import numpy as np\n",
    "import matplotlib.pyplot as plt\n",
    "import scipy.stats as stats\n",
    "from ipywidgets import widgets\n",
    "from IPython.display import display"
   ]
  },
  {
   "cell_type": "markdown",
   "metadata": {},
   "source": [
    "# Histograma de una distribución Normal"
   ]
  },
  {
   "cell_type": "code",
   "execution_count": 6,
   "metadata": {},
   "outputs": [
    {
     "data": {
      "application/vnd.jupyter.widget-view+json": {
       "model_id": "c05c354d6d974dc4b4ad26c1923d8682",
       "version_major": 2,
       "version_minor": 0
      },
      "text/html": [
       "<p>Failed to display Jupyter Widget of type <code>interactive</code>.</p>\n",
       "<p>\n",
       "  If you're reading this message in the Jupyter Notebook or JupyterLab Notebook, it may mean\n",
       "  that the widgets JavaScript is still loading. If this message persists, it\n",
       "  likely means that the widgets JavaScript library is either not installed or\n",
       "  not enabled. See the <a href=\"https://ipywidgets.readthedocs.io/en/stable/user_install.html\">Jupyter\n",
       "  Widgets Documentation</a> for setup instructions.\n",
       "</p>\n",
       "<p>\n",
       "  If you're reading this message in another frontend (for example, a static\n",
       "  rendering on GitHub or <a href=\"https://nbviewer.jupyter.org/\">NBViewer</a>),\n",
       "  it may mean that your frontend doesn't currently support widgets.\n",
       "</p>\n"
      ],
      "text/plain": [
       "interactive(children=(FloatSlider(value=0.0, continuous_update=False, description='mu :', max=4.0, min=-4.0, step=0.01), FloatSlider(value=1.0, continuous_update=False, description='sigma :', max=5.0, min=0.5, step=0.01), IntSlider(value=500, continuous_update=False, description='samples :', max=10000, min=100, step=50), Output()), _dom_classes=('widget-interact',))"
      ]
     },
     "metadata": {},
     "output_type": "display_data"
    }
   ],
   "source": [
    "# histograma de distribución normal.\n",
    "def interactive_normal_histogram(mu,sigma,samples):\n",
    "    plt.figure(figsize=(5,5))\n",
    "    datos = np.random.normal(mu, sigma, samples)\n",
    "    cuenta, cajas, ignorar = plt.hist(datos, 20)\n",
    "    plt.ylabel('frequencia')\n",
    "    plt.xlabel('valores')\n",
    "    plt.title('Histograma')\n",
    "    plt.show()\n",
    "    \n",
    "input1Float = widgets.FloatSlider(value=0, min=-4, max=4, step=0.01, description=\"mu :\", orientation=\"horizontal\",continuous_update=False)\n",
    "input2Float = widgets.FloatSlider(value=1, min=0.5, max=5, step=0.01, description=\"sigma :\", orientation=\"horizontal\",continuous_update=False)\n",
    "input3Float = widgets.IntSlider(value=500, min=100, max=10000, step=50, description=\"samples :\", orientation=\"horizontal\", readout=True,\n",
    "                readout_format='d',disabled=False, continuous_update=False)\n",
    "\n",
    "#Remember to activate jupyter nbextension enable --py widgetsnbextension\n",
    "widgets.interactive(interactive_normal_histogram, mu=input1Float, sigma=input2Float, samples=input3Float)"
   ]
  },
  {
   "cell_type": "code",
   "execution_count": 7,
   "metadata": {},
   "outputs": [
    {
     "data": {
      "application/vnd.jupyter.widget-view+json": {
       "model_id": "16f8de8b167a4a4d80c346bee51d0a74",
       "version_major": 2,
       "version_minor": 0
      },
      "text/html": [
       "<p>Failed to display Jupyter Widget of type <code>interactive</code>.</p>\n",
       "<p>\n",
       "  If you're reading this message in the Jupyter Notebook or JupyterLab Notebook, it may mean\n",
       "  that the widgets JavaScript is still loading. If this message persists, it\n",
       "  likely means that the widgets JavaScript library is either not installed or\n",
       "  not enabled. See the <a href=\"https://ipywidgets.readthedocs.io/en/stable/user_install.html\">Jupyter\n",
       "  Widgets Documentation</a> for setup instructions.\n",
       "</p>\n",
       "<p>\n",
       "  If you're reading this message in another frontend (for example, a static\n",
       "  rendering on GitHub or <a href=\"https://nbviewer.jupyter.org/\">NBViewer</a>),\n",
       "  it may mean that your frontend doesn't currently support widgets.\n",
       "</p>\n"
      ],
      "text/plain": [
       "interactive(children=(FloatSlider(value=0.0, continuous_update=False, description='mu :', max=4.0, min=-4.0, step=0.01), FloatSlider(value=1.0, continuous_update=False, description='sigma :', max=5.0, min=0.5, step=0.01), Output()), _dom_classes=('widget-interact',))"
      ]
     },
     "metadata": {},
     "output_type": "display_data"
    }
   ],
   "source": [
    "# Graficando Función de Distribución Acumulada con Python\n",
    "def interactive_normal_cummulative_density(mu,sigma):\n",
    "    plt.figure(figsize=(5,5))\n",
    "    x = np.linspace(stats.norm(mu, sigma).ppf(0.01),\n",
    "                  stats.norm(mu, sigma).ppf(0.99), 100)\n",
    "    fda_normal = stats.norm(mu, sigma).cdf(x) # Función de Distribución Acumulada\n",
    "    plt.plot(x, fda_normal, label='FDA nomal')\n",
    "    plt.title('Función de Distribución Acumulada')\n",
    "    plt.ylabel('probabilidad')\n",
    "    plt.xlabel('valores')\n",
    "    plt.legend(loc=4)\n",
    "    plt.show()\n",
    "    \n",
    "input1Float = widgets.FloatSlider(value=0, min=-4, max=4, step=0.01, description=\"mu :\", orientation=\"horizontal\",continuous_update=False)\n",
    "input2Float = widgets.FloatSlider(value=1, min=0.5, max=5, step=0.01, description=\"sigma :\", orientation=\"horizontal\",continuous_update=False)\n",
    "\n",
    "#Remember to activate jupyter nbextension enable --py widgetsnbextension\n",
    "widgets.interactive(interactive_normal_cummulative_density, mu=input1Float, sigma=input2Float)"
   ]
  },
  {
   "cell_type": "markdown",
   "metadata": {},
   "source": [
    "# Gráfico interactivo de una distribución Bernulli"
   ]
  },
  {
   "cell_type": "code",
   "execution_count": 9,
   "metadata": {},
   "outputs": [
    {
     "data": {
      "application/vnd.jupyter.widget-view+json": {
       "model_id": "ed6e9e46f192448bad02508ad412b352",
       "version_major": 2,
       "version_minor": 0
      },
      "text/html": [
       "<p>Failed to display Jupyter Widget of type <code>interactive</code>.</p>\n",
       "<p>\n",
       "  If you're reading this message in the Jupyter Notebook or JupyterLab Notebook, it may mean\n",
       "  that the widgets JavaScript is still loading. If this message persists, it\n",
       "  likely means that the widgets JavaScript library is either not installed or\n",
       "  not enabled. See the <a href=\"https://ipywidgets.readthedocs.io/en/stable/user_install.html\">Jupyter\n",
       "  Widgets Documentation</a> for setup instructions.\n",
       "</p>\n",
       "<p>\n",
       "  If you're reading this message in another frontend (for example, a static\n",
       "  rendering on GitHub or <a href=\"https://nbviewer.jupyter.org/\">NBViewer</a>),\n",
       "  it may mean that your frontend doesn't currently support widgets.\n",
       "</p>\n"
      ],
      "text/plain": [
       "interactive(children=(FloatSlider(value=0.5, continuous_update=False, description='p :', max=1.0, min=0.1, step=0.01), Output()), _dom_classes=('widget-interact',))"
      ]
     },
     "metadata": {},
     "output_type": "display_data"
    }
   ],
   "source": [
    "# Graficando Bernoulli\n",
    "def interactive_bernulli(p):\n",
    "    plt.figure(figsize=(5,5))\n",
    "    bernulli = stats.bernoulli(p)\n",
    "    x = np.arange(-1, 3)\n",
    "    fmp = bernulli.pmf(x) # Función de Masa de Probabilidad\n",
    "    plt.plot(x, fmp, 'bo')\n",
    "    plt.vlines(x, 0, fmp, colors='b', lw=5, alpha=0.5)\n",
    "    plt.title('Distribución Bernulli')\n",
    "    plt.ylabel('probabilidad')\n",
    "    plt.xlabel('valores')\n",
    "    plt.show()\n",
    "    \n",
    "input1Float = widgets.FloatSlider(value=0.5, min=0.1, max=1, step=0.01, description=\"p :\", orientation=\"horizontal\",continuous_update=False)\n",
    "\n",
    "widgets.interactive(interactive_bernulli, p =input1Float)"
   ]
  },
  {
   "cell_type": "code",
   "execution_count": 10,
   "metadata": {},
   "outputs": [
    {
     "data": {
      "application/vnd.jupyter.widget-view+json": {
       "model_id": "11e25b8a95a24af595d3af63c2643b01",
       "version_major": 2,
       "version_minor": 0
      },
      "text/html": [
       "<p>Failed to display Jupyter Widget of type <code>interactive</code>.</p>\n",
       "<p>\n",
       "  If you're reading this message in the Jupyter Notebook or JupyterLab Notebook, it may mean\n",
       "  that the widgets JavaScript is still loading. If this message persists, it\n",
       "  likely means that the widgets JavaScript library is either not installed or\n",
       "  not enabled. See the <a href=\"https://ipywidgets.readthedocs.io/en/stable/user_install.html\">Jupyter\n",
       "  Widgets Documentation</a> for setup instructions.\n",
       "</p>\n",
       "<p>\n",
       "  If you're reading this message in another frontend (for example, a static\n",
       "  rendering on GitHub or <a href=\"https://nbviewer.jupyter.org/\">NBViewer</a>),\n",
       "  it may mean that your frontend doesn't currently support widgets.\n",
       "</p>\n"
      ],
      "text/plain": [
       "interactive(children=(FloatSlider(value=0.5, continuous_update=False, description='p :', max=1.0, min=0.1, step=0.01), IntSlider(value=200, continuous_update=False, description='samples :', max=1000, min=50), IntSlider(value=10, continuous_update=False, description='bins :', max=50, min=5), Output()), _dom_classes=('widget-interact',))"
      ]
     },
     "metadata": {},
     "output_type": "display_data"
    }
   ],
   "source": [
    "# histograma bernulli\n",
    "def interactive_bernulli_histogram(p,samples,bins):\n",
    "    plt.figure(figsize=(5,5))\n",
    "    bernulli = stats.bernoulli(p)\n",
    "    aleatorios = bernulli.rvs(samples)\n",
    "    cuenta, cajas, ignorar = plt.hist(aleatorios, bins)\n",
    "    plt.ylabel('frequencia')\n",
    "    plt.xlabel('valores')\n",
    "    plt.title('Histograma Bernulli')\n",
    "    plt.show()\n",
    "    \n",
    "input1Float = widgets.FloatSlider(value=0.5, min=0.1, max=1, step=0.01, description=\"p :\", orientation=\"horizontal\",continuous_update=False)\n",
    "input2Float = widgets.IntSlider(value=200, min=50, max=1000, step=1, description=\"samples :\", orientation=\"horizontal\", readout=True,\n",
    "                readout_format='d',disabled=False, continuous_update=False)\n",
    "input3Float = widgets.IntSlider(value=10, min=5, max=50, step=1, description=\"bins :\", orientation=\"horizontal\", readout=True,\n",
    "                readout_format='d',disabled=False, continuous_update=False)\n",
    "\n",
    "widgets.interactive(interactive_bernulli_histogram, p=input1Float, samples=input2Float,bins=input3Float)"
   ]
  },
  {
   "cell_type": "markdown",
   "metadata": {},
   "source": [
    "# Gráfico interactivo de una distribución Binomial"
   ]
  },
  {
   "cell_type": "code",
   "execution_count": 11,
   "metadata": {},
   "outputs": [
    {
     "data": {
      "application/vnd.jupyter.widget-view+json": {
       "model_id": "524c3abbf09b450e90184079ec1e6256",
       "version_major": 2,
       "version_minor": 0
      },
      "text/html": [
       "<p>Failed to display Jupyter Widget of type <code>interactive</code>.</p>\n",
       "<p>\n",
       "  If you're reading this message in the Jupyter Notebook or JupyterLab Notebook, it may mean\n",
       "  that the widgets JavaScript is still loading. If this message persists, it\n",
       "  likely means that the widgets JavaScript library is either not installed or\n",
       "  not enabled. See the <a href=\"https://ipywidgets.readthedocs.io/en/stable/user_install.html\">Jupyter\n",
       "  Widgets Documentation</a> for setup instructions.\n",
       "</p>\n",
       "<p>\n",
       "  If you're reading this message in another frontend (for example, a static\n",
       "  rendering on GitHub or <a href=\"https://nbviewer.jupyter.org/\">NBViewer</a>),\n",
       "  it may mean that your frontend doesn't currently support widgets.\n",
       "</p>\n"
      ],
      "text/plain": [
       "interactive(children=(IntSlider(value=20, continuous_update=False, description='n :', max=30, min=2), FloatSlider(value=0.3, continuous_update=False, description='p :', max=0.99, min=0.01, step=0.01), Output()), _dom_classes=('widget-interact',))"
      ]
     },
     "metadata": {},
     "output_type": "display_data"
    }
   ],
   "source": [
    "# Graficando FMP\n",
    "def interactive_binomial(n, p):\n",
    "    plt.figure(figsize=(5,5))\n",
    "    x = np.arange(stats.binom.ppf(0.001, n, p), #ppf: Percent Point Function (Inverse of CDF)\n",
    "              stats.binom.ppf(0.999, n, p))\n",
    "    fmp = stats.binom.pmf(x, n, p) # Función de Masa de Probabilidad\n",
    "    plt.plot(x, fmp, '--')\n",
    "    plt.vlines(x, 0, fmp, colors='b', lw=5, alpha=0.5)\n",
    "    plt.title('Función de Masa de Probabilidad')\n",
    "    plt.ylabel('probabilidad')\n",
    "    plt.xlabel('valores')\n",
    "    plt.show()\n",
    "    \n",
    "input1Float = widgets.FloatSlider(value=0.3, min=0.01, max=0.99, step=0.01, description=\"p :\", orientation=\"horizontal\",continuous_update=False)\n",
    "input2Float = widgets.IntSlider(value=20, min=2, max=30, step=1, description=\"n :\", orientation=\"horizontal\", readout=True,\n",
    "                readout_format='d',disabled=False, continuous_update=False)\n",
    "\n",
    "#Remember to activate jupyter nbextension enable --py widgetsnbextension\n",
    "widgets.interactive(interactive_binomial, p=input1Float, n=input2Float)"
   ]
  },
  {
   "cell_type": "code",
   "execution_count": 12,
   "metadata": {},
   "outputs": [
    {
     "data": {
      "application/vnd.jupyter.widget-view+json": {
       "model_id": "eb5593166c7949f3be84c50a74869c48",
       "version_major": 2,
       "version_minor": 0
      },
      "text/html": [
       "<p>Failed to display Jupyter Widget of type <code>interactive</code>.</p>\n",
       "<p>\n",
       "  If you're reading this message in the Jupyter Notebook or JupyterLab Notebook, it may mean\n",
       "  that the widgets JavaScript is still loading. If this message persists, it\n",
       "  likely means that the widgets JavaScript library is either not installed or\n",
       "  not enabled. See the <a href=\"https://ipywidgets.readthedocs.io/en/stable/user_install.html\">Jupyter\n",
       "  Widgets Documentation</a> for setup instructions.\n",
       "</p>\n",
       "<p>\n",
       "  If you're reading this message in another frontend (for example, a static\n",
       "  rendering on GitHub or <a href=\"https://nbviewer.jupyter.org/\">NBViewer</a>),\n",
       "  it may mean that your frontend doesn't currently support widgets.\n",
       "</p>\n"
      ],
      "text/plain": [
       "interactive(children=(IntSlider(value=20, continuous_update=False, description='n :', max=30, min=2), FloatSlider(value=0.5, continuous_update=False, description='p :', max=1.0, min=0.1, step=0.01), IntSlider(value=200, continuous_update=False, description='samples :', max=1000, min=50), IntSlider(value=10, continuous_update=False, description='bins :', max=50, min=5), Output()), _dom_classes=('widget-interact',))"
      ]
     },
     "metadata": {},
     "output_type": "display_data"
    }
   ],
   "source": [
    "# histograma bernulli\n",
    "def interactive_binomial_histogram(n, p,samples,bins):\n",
    "    plt.figure(figsize=(5,5))\n",
    "    bernulli = stats.binom(n,p)\n",
    "    aleatorios = bernulli.rvs(samples)\n",
    "    cuenta, cajas, ignorar = plt.hist(aleatorios, bins)\n",
    "    plt.ylabel('frequencia')\n",
    "    plt.xlabel('valores')\n",
    "    plt.title('Histograma Bernulli')\n",
    "    plt.show()\n",
    "\n",
    "input0Int = widgets.IntSlider(value=20, min=2, max=30, step=1, description=\"n :\", orientation=\"horizontal\", readout=True,\n",
    "                readout_format='d',disabled=False, continuous_update=False)\n",
    "input1Float = widgets.FloatSlider(value=0.5, min=0.1, max=1, step=0.01, description=\"p :\", orientation=\"horizontal\",continuous_update=False)\n",
    "input2Float = widgets.IntSlider(value=200, min=50, max=1000, step=1, description=\"samples :\", orientation=\"horizontal\", readout=True,\n",
    "                readout_format='d',disabled=False, continuous_update=False)\n",
    "input3Float = widgets.IntSlider(value=10, min=5, max=50, step=1, description=\"bins :\", orientation=\"horizontal\", readout=True,\n",
    "                readout_format='d',disabled=False, continuous_update=False)\n",
    "\n",
    "widgets.interactive(interactive_binomial_histogram, n=input0Int, p=input1Float, samples=input2Float,bins=input3Float)"
   ]
  },
  {
   "cell_type": "markdown",
   "metadata": {},
   "source": [
    "# Gráfico interactivo de una distribución Geométrica"
   ]
  },
  {
   "cell_type": "code",
   "execution_count": 13,
   "metadata": {},
   "outputs": [
    {
     "data": {
      "application/vnd.jupyter.widget-view+json": {
       "model_id": "6302ddd5dc92445dbd41af003444d75f",
       "version_major": 2,
       "version_minor": 0
      },
      "text/html": [
       "<p>Failed to display Jupyter Widget of type <code>interactive</code>.</p>\n",
       "<p>\n",
       "  If you're reading this message in the Jupyter Notebook or JupyterLab Notebook, it may mean\n",
       "  that the widgets JavaScript is still loading. If this message persists, it\n",
       "  likely means that the widgets JavaScript library is either not installed or\n",
       "  not enabled. See the <a href=\"https://ipywidgets.readthedocs.io/en/stable/user_install.html\">Jupyter\n",
       "  Widgets Documentation</a> for setup instructions.\n",
       "</p>\n",
       "<p>\n",
       "  If you're reading this message in another frontend (for example, a static\n",
       "  rendering on GitHub or <a href=\"https://nbviewer.jupyter.org/\">NBViewer</a>),\n",
       "  it may mean that your frontend doesn't currently support widgets.\n",
       "</p>\n"
      ],
      "text/plain": [
       "interactive(children=(FloatSlider(value=0.5, continuous_update=False, description='p :', max=1.0, min=0.1, step=0.01), Output()), _dom_classes=('widget-interact',))"
      ]
     },
     "metadata": {},
     "output_type": "display_data"
    }
   ],
   "source": [
    "# Graficando Geométrica\n",
    "def interactive_geometrica(p):\n",
    "    plt.figure(figsize=(5,5))\n",
    "    geometrica = stats.geom(p)\n",
    "    x = np.arange(geometrica.ppf(0.01),\n",
    "              geometrica.ppf(0.99))\n",
    "    fmp = geometrica.pmf(x) # Función de Masa de Probabilidad\n",
    "    plt.plot(x, fmp, '--')\n",
    "    plt.vlines(x, 0, fmp, colors='b', lw=5, alpha=0.5)\n",
    "    plt.title('Distribución Geométrica')\n",
    "    plt.ylabel('probabilidad')\n",
    "    plt.xlabel('valores')\n",
    "    plt.show()\n",
    "    \n",
    "input1Float = widgets.FloatSlider(value=0.5, min=0.1, max=1, step=0.01, description=\"p :\", orientation=\"horizontal\",continuous_update=False)\n",
    "\n",
    "widgets.interactive(interactive_geometrica, p =input1Float)"
   ]
  },
  {
   "cell_type": "code",
   "execution_count": 9,
   "metadata": {},
   "outputs": [
    {
     "data": {
      "application/vnd.jupyter.widget-view+json": {
       "model_id": "33a34eb7a3ab47d289d6173afa0339be",
       "version_major": 2,
       "version_minor": 0
      },
      "text/html": [
       "<p>Failed to display Jupyter Widget of type <code>interactive</code>.</p>\n",
       "<p>\n",
       "  If you're reading this message in the Jupyter Notebook or JupyterLab Notebook, it may mean\n",
       "  that the widgets JavaScript is still loading. If this message persists, it\n",
       "  likely means that the widgets JavaScript library is either not installed or\n",
       "  not enabled. See the <a href=\"https://ipywidgets.readthedocs.io/en/stable/user_install.html\">Jupyter\n",
       "  Widgets Documentation</a> for setup instructions.\n",
       "</p>\n",
       "<p>\n",
       "  If you're reading this message in another frontend (for example, a static\n",
       "  rendering on GitHub or <a href=\"https://nbviewer.jupyter.org/\">NBViewer</a>),\n",
       "  it may mean that your frontend doesn't currently support widgets.\n",
       "</p>\n"
      ],
      "text/plain": [
       "interactive(children=(FloatSlider(value=0.5, continuous_update=False, description='p :', max=0.99, min=0.01, step=0.01), IntSlider(value=200, continuous_update=False, description='samples :', max=1000, min=50), IntSlider(value=10, continuous_update=False, description='bins :', max=50, min=5), Output()), _dom_classes=('widget-interact',))"
      ]
     },
     "metadata": {},
     "output_type": "display_data"
    }
   ],
   "source": [
    "# Graficando Geometrica\n",
    "def interactive_geometric_histogram(p,samples,bins):\n",
    "    plt.figure(figsize=(5,5))\n",
    "    geometrica = stats.geom(p)\n",
    "    aleatorios = geometrica.rvs(samples)\n",
    "    cuenta, cajas, ignorar = plt.hist(aleatorios, bins)\n",
    "    plt.ylabel('frequencia')\n",
    "    plt.xlabel('valores')\n",
    "    plt.title('Histograma Geometrica')\n",
    "    plt.show()\n",
    "    \n",
    "input1Float = widgets.FloatSlider(value=0.5, min=0.01, max=0.99, step=0.01, description=\"p :\", orientation=\"horizontal\",continuous_update=False)\n",
    "input2Float = widgets.IntSlider(value=200, min=50, max=1000, step=1, description=\"samples :\", orientation=\"horizontal\", readout=True,\n",
    "                readout_format='d',disabled=False, continuous_update=False)\n",
    "input3Float = widgets.IntSlider(value=10, min=5, max=50, step=1, description=\"bins :\", orientation=\"horizontal\", readout=True,\n",
    "                readout_format='d',disabled=False, continuous_update=False)\n",
    "\n",
    "widgets.interactive(interactive_geometric_histogram, p=input1Float, samples=input2Float,bins=input3Float)"
   ]
  },
  {
   "cell_type": "markdown",
   "metadata": {},
   "source": [
    "# Gráfico interactivo de una distribución Hypergeométrica"
   ]
  },
  {
   "cell_type": "code",
   "execution_count": 14,
   "metadata": {},
   "outputs": [
    {
     "data": {
      "application/vnd.jupyter.widget-view+json": {
       "model_id": "b9a59a3ee7ce4c2d924b9a8d0ff34afc",
       "version_major": 2,
       "version_minor": 0
      },
      "text/html": [
       "<p>Failed to display Jupyter Widget of type <code>interactive</code>.</p>\n",
       "<p>\n",
       "  If you're reading this message in the Jupyter Notebook or JupyterLab Notebook, it may mean\n",
       "  that the widgets JavaScript is still loading. If this message persists, it\n",
       "  likely means that the widgets JavaScript library is either not installed or\n",
       "  not enabled. See the <a href=\"https://ipywidgets.readthedocs.io/en/stable/user_install.html\">Jupyter\n",
       "  Widgets Documentation</a> for setup instructions.\n",
       "</p>\n",
       "<p>\n",
       "  If you're reading this message in another frontend (for example, a static\n",
       "  rendering on GitHub or <a href=\"https://nbviewer.jupyter.org/\">NBViewer</a>),\n",
       "  it may mean that your frontend doesn't currently support widgets.\n",
       "</p>\n"
      ],
      "text/plain": [
       "interactive(children=(IntSlider(value=30, continuous_update=False, description='M :', max=40, min=20), IntSlider(value=10, continuous_update=False, description='n :', max=20), IntSlider(value=12, continuous_update=False, description='N :', max=30), Output()), _dom_classes=('widget-interact',))"
      ]
     },
     "metadata": {},
     "output_type": "display_data"
    }
   ],
   "source": [
    "# Graficando Hipergeométrica\n",
    "def interactive_hypergeometric(M,n,N):\n",
    "    plt.figure(figsize=(5,5))\n",
    "    hipergeometrica = stats.hypergeom(M, n, N) # Distribución\n",
    "    x = np.arange(0, n+1)\n",
    "    fmp = hipergeometrica.pmf(x) # Función de Masa de Probabilidad\n",
    "    plt.plot(x, fmp, '--')\n",
    "    plt.vlines(x, 0, fmp, colors='b', lw=5, alpha=0.5)\n",
    "    plt.title('Distribución Hipergeométrica')\n",
    "    plt.ylabel('probabilidad')\n",
    "    plt.xlabel('valores')\n",
    "    plt.show()\n",
    "    \n",
    "N=20\n",
    "M=30\n",
    "input1Int = widgets.IntSlider(value=30, min=20, max=40, step=1, description=\"M :\", orientation=\"horizontal\", readout=True,\n",
    "                readout_format='d',disabled=False, continuous_update=False)\n",
    "input2Int = widgets.IntSlider(value=10, min=0, max=N, step=1, description=\"n :\", orientation=\"horizontal\", readout=True,\n",
    "                readout_format='d',disabled=False, continuous_update=False)\n",
    "input3Int = widgets.IntSlider(value=12, min=0, max=max(N,M), step=1, description=\"N :\", orientation=\"horizontal\", readout=True,\n",
    "                readout_format='d',disabled=False, continuous_update=False)\n",
    "widgets.interactive(interactive_hypergeometric, M = input1Int, n=input2Int, N=input3Int)"
   ]
  },
  {
   "cell_type": "code",
   "execution_count": 13,
   "metadata": {},
   "outputs": [
    {
     "data": {
      "application/vnd.jupyter.widget-view+json": {
       "model_id": "b6fa7200fb8a469c9c72a9976c316a36",
       "version_major": 2,
       "version_minor": 0
      },
      "text/html": [
       "<p>Failed to display Jupyter Widget of type <code>interactive</code>.</p>\n",
       "<p>\n",
       "  If you're reading this message in the Jupyter Notebook or JupyterLab Notebook, it may mean\n",
       "  that the widgets JavaScript is still loading. If this message persists, it\n",
       "  likely means that the widgets JavaScript library is either not installed or\n",
       "  not enabled. See the <a href=\"https://ipywidgets.readthedocs.io/en/stable/user_install.html\">Jupyter\n",
       "  Widgets Documentation</a> for setup instructions.\n",
       "</p>\n",
       "<p>\n",
       "  If you're reading this message in another frontend (for example, a static\n",
       "  rendering on GitHub or <a href=\"https://nbviewer.jupyter.org/\">NBViewer</a>),\n",
       "  it may mean that your frontend doesn't currently support widgets.\n",
       "</p>\n"
      ],
      "text/plain": [
       "interactive(children=(IntSlider(value=30, continuous_update=False, description='M :', max=40, min=20), IntSlider(value=10, continuous_update=False, description='n :', max=20), IntSlider(value=12, continuous_update=False, description='N :', max=30), IntSlider(value=200, continuous_update=False, description='Samples :', max=1000, min=50), IntSlider(value=12, continuous_update=False, description='bins :', max=30, min=5), Output()), _dom_classes=('widget-interact',))"
      ]
     },
     "metadata": {},
     "output_type": "display_data"
    }
   ],
   "source": [
    "# histograma hypergeometric\n",
    "def interactive_hypergeometric_histogram(M,n,N,samples,bins):\n",
    "    hipergeometrica = stats.hypergeom(M, n, N) \n",
    "    plt.figure(figsize=(5,5))\n",
    "    aleatorios = hipergeometrica.rvs(samples)\n",
    "    cuenta, cajas, ignorar = plt.hist(aleatorios, bins)\n",
    "    plt.ylabel('frequency')\n",
    "    plt.xlabel('values')\n",
    "    plt.title('Histogram Hypergoemetric')\n",
    "    plt.show()\n",
    "    \n",
    "input1Int = widgets.IntSlider(value=30, min=20, max=40, step=1, description=\"M :\", orientation=\"horizontal\", readout=True,\n",
    "                readout_format='d',disabled=False, continuous_update=False)\n",
    "input2Int = widgets.IntSlider(value=10, min=0, max=N, step=1, description=\"n :\", orientation=\"horizontal\", readout=True,\n",
    "                readout_format='d',disabled=False, continuous_update=False)\n",
    "input3Int = widgets.IntSlider(value=12, min=0, max=M, step=1, description=\"N :\", orientation=\"horizontal\", readout=True,\n",
    "                readout_format='d',disabled=False, continuous_update=False)\n",
    "input4Int = widgets.IntSlider(value=200, min=50, max=1000, step=1, description=\"Samples :\", orientation=\"horizontal\", readout=True,\n",
    "                readout_format='d',disabled=False, continuous_update=False)\n",
    "input5Int = widgets.IntSlider(value=12, min=5, max=30, step=1, description=\"bins :\", orientation=\"horizontal\", readout=True,\n",
    "                readout_format='d',disabled=False, continuous_update=False)\n",
    "widgets.interactive(interactive_hypergeometric_histogram, M = input1Int, n=input2Int, N=input3Int, samples = input4Int, bins = input5Int)"
   ]
  },
  {
   "cell_type": "markdown",
   "metadata": {},
   "source": [
    "# Gráfico interactivo de una distribución Poisson"
   ]
  },
  {
   "cell_type": "code",
   "execution_count": 16,
   "metadata": {},
   "outputs": [
    {
     "data": {
      "application/vnd.jupyter.widget-view+json": {
       "model_id": "ee3f51b7781a473aac4d7f4a8e5288cb",
       "version_major": 2,
       "version_minor": 0
      },
      "text/html": [
       "<p>Failed to display Jupyter Widget of type <code>interactive</code>.</p>\n",
       "<p>\n",
       "  If you're reading this message in the Jupyter Notebook or JupyterLab Notebook, it may mean\n",
       "  that the widgets JavaScript is still loading. If this message persists, it\n",
       "  likely means that the widgets JavaScript library is either not installed or\n",
       "  not enabled. See the <a href=\"https://ipywidgets.readthedocs.io/en/stable/user_install.html\">Jupyter\n",
       "  Widgets Documentation</a> for setup instructions.\n",
       "</p>\n",
       "<p>\n",
       "  If you're reading this message in another frontend (for example, a static\n",
       "  rendering on GitHub or <a href=\"https://nbviewer.jupyter.org/\">NBViewer</a>),\n",
       "  it may mean that your frontend doesn't currently support widgets.\n",
       "</p>\n"
      ],
      "text/plain": [
       "interactive(children=(FloatSlider(value=3.0, continuous_update=False, description='mu :', min=1.0), Output()), _dom_classes=('widget-interact',))"
      ]
     },
     "metadata": {},
     "output_type": "display_data"
    }
   ],
   "source": [
    "# Graficando Poisson\n",
    "def interactive_poisson(mu):\n",
    "    plt.figure(figsize=(5,5))\n",
    "    poisson = stats.poisson(mu)\n",
    "    x = np.arange(poisson.ppf(0.01),\n",
    "              poisson.ppf(0.99))\n",
    "    fmp = poisson.pmf(x)\n",
    "    plt.plot(x, fmp, '--')\n",
    "    plt.vlines(x, 0, fmp, colors='b', lw=5, alpha=0.5)\n",
    "    plt.title('Distribución Poisson')\n",
    "    plt.ylabel('probabilidad')\n",
    "    plt.xlabel('valores')\n",
    "    plt.show()\n",
    "    \n",
    "input1Float = widgets.FloatSlider(value=3, min=1, max=100, step=0.1, description=\"mu :\", orientation=\"horizontal\",continuous_update=False)\n",
    "\n",
    "#Remember to activate jupyter nbextension enable --py widgetsnbextension\n",
    "widgets.interactive(interactive_poisson, mu=input1Float)"
   ]
  },
  {
   "cell_type": "code",
   "execution_count": 15,
   "metadata": {},
   "outputs": [
    {
     "data": {
      "application/vnd.jupyter.widget-view+json": {
       "model_id": "633819145a7342d7bd2e73386643984d",
       "version_major": 2,
       "version_minor": 0
      },
      "text/html": [
       "<p>Failed to display Jupyter Widget of type <code>interactive</code>.</p>\n",
       "<p>\n",
       "  If you're reading this message in the Jupyter Notebook or JupyterLab Notebook, it may mean\n",
       "  that the widgets JavaScript is still loading. If this message persists, it\n",
       "  likely means that the widgets JavaScript library is either not installed or\n",
       "  not enabled. See the <a href=\"https://ipywidgets.readthedocs.io/en/stable/user_install.html\">Jupyter\n",
       "  Widgets Documentation</a> for setup instructions.\n",
       "</p>\n",
       "<p>\n",
       "  If you're reading this message in another frontend (for example, a static\n",
       "  rendering on GitHub or <a href=\"https://nbviewer.jupyter.org/\">NBViewer</a>),\n",
       "  it may mean that your frontend doesn't currently support widgets.\n",
       "</p>\n"
      ],
      "text/plain": [
       "interactive(children=(FloatSlider(value=3.0, continuous_update=False, description='mu :', max=10.0, min=1.0), IntSlider(value=200, continuous_update=False, description='samples :', max=1000, min=50), IntSlider(value=10, continuous_update=False, description='bins :', max=50, min=5), Output()), _dom_classes=('widget-interact',))"
      ]
     },
     "metadata": {},
     "output_type": "display_data"
    }
   ],
   "source": [
    "# Graficando Poisson\n",
    "def interactive_poisson_histogram(mu,samples,bins):\n",
    "    plt.figure(figsize=(5,5))\n",
    "    poisson = stats.poisson(mu)\n",
    "    aleatorios = poisson.rvs(samples)\n",
    "    cuenta, cajas, ignorar = plt.hist(aleatorios, bins)\n",
    "    plt.ylabel('frequencia')\n",
    "    plt.xlabel('valores')\n",
    "    plt.title('Histograma Poisson')\n",
    "    plt.show()\n",
    "    \n",
    "input1Float = widgets.FloatSlider(value=3, min=1, max=10, step=0.1, description=\"mu :\", orientation=\"horizontal\",continuous_update=False)\n",
    "input2Float = widgets.IntSlider(value=200, min=50, max=1000, step=1, description=\"samples :\", orientation=\"horizontal\", readout=True,\n",
    "                readout_format='d',disabled=False, continuous_update=False)\n",
    "input3Float = widgets.IntSlider(value=10, min=5, max=50, step=1, description=\"bins :\", orientation=\"horizontal\", readout=True,\n",
    "                readout_format='d',disabled=False, continuous_update=False)\n",
    "\n",
    "widgets.interactive(interactive_poisson_histogram, mu=input1Float, samples=input2Float,bins=input3Float)"
   ]
  },
  {
   "cell_type": "code",
   "execution_count": null,
   "metadata": {},
   "outputs": [],
   "source": []
  }
 ],
 "metadata": {
  "kernelspec": {
   "display_name": "Python 3",
   "language": "python",
   "name": "python3"
  },
  "language_info": {
   "codemirror_mode": {
    "name": "ipython",
    "version": 3
   },
   "file_extension": ".py",
   "mimetype": "text/x-python",
   "name": "python",
   "nbconvert_exporter": "python",
   "pygments_lexer": "ipython3",
   "version": "3.6.4"
  }
 },
 "nbformat": 4,
 "nbformat_minor": 2
}
