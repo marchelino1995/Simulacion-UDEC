{
 "cells": [
  {
   "cell_type": "markdown",
   "metadata": {},
   "source": [
    "# Convolución de distribuciones"
   ]
  },
  {
   "cell_type": "markdown",
   "metadata": {},
   "source": [
    "En este notebook vamos a ver como realizar convoluciones en python. El enfoque es evidentemente numérico, cuyo único fin es introducir al estudiante a la idea de convolución y como esta puede llegar a ser contraintuitiva a la hora de descernir el resultado de la suma de variables aleatorias."
   ]
  },
  {
   "cell_type": "markdown",
   "metadata": {},
   "source": [
    "## Revisión básica de Jupyter"
   ]
  },
  {
   "cell_type": "markdown",
   "metadata": {},
   "source": [
    "Jupyter es un editor online implementado por el equipo de Anaconda para ser utilizado con su distribución de Python. La mayor utilidad de Jupyter es que permite \"fast prototyping\" de ideas, las cuales pueden quedar inmediatamente disponibles para otros usuarios ya sea en formato \"notebook\", \"html\", \"Markdown\", o \"pdf\""
   ]
  },
  {
   "cell_type": "markdown",
   "metadata": {},
   "source": [
    "Para comenzar a trabajar en el entorno es recomendable importar todos los paquetes que el usuario va a requerir para realizar su trabajo. En general todos los \"imports\" son puestos en la misma celda para facilitar la navegación."
   ]
  },
  {
   "cell_type": "code",
   "execution_count": 1,
   "metadata": {},
   "outputs": [],
   "source": [
    "# El simbolo # se utiliza en python para realizar comentarios de linea\n",
    "'''\n",
    "Tres comillas arriba y tres abajo son utilizadas para hacer comentarios que abarcan mas de una linea.\n",
    "Generalmente se ocupan para definir la \"ayuda\" de las funciones\n",
    "'''\n",
    "%matplotlib inline\n",
    "from ipywidgets import widgets\n",
    "from IPython.display import display\n",
    "import matplotlib.pyplot as plt # Esta linea define el ambiente gráfico\n",
    "import numpy as np # Esta linea define el ambiente \"numérico\", el matlab de python\n",
    "import seaborn as sns\n",
    "sns.set(context='talk',style='whitegrid',font='serif')"
   ]
  },
  {
   "cell_type": "markdown",
   "metadata": {},
   "source": [
    "## Implementando Convoluciones"
   ]
  },
  {
   "cell_type": "markdown",
   "metadata": {},
   "source": [
    "Python permite tanto programación funcional como programación orientada a objetos. El siguente código comienza con una clase genérica \"VariableAleatoria\" que hereda sus propiedades de \"objecto\". Luego las clases \"Exponencial\", \"Uniforme\", y \"Erlang\" heredan sus proiedades de \"VariableAleatoria\". El ejemplo es bastante simple, pero esta dado solo como ejemplo de lo que hace una interface y como se sobreescriben los métodos de la interface."
   ]
  },
  {
   "cell_type": "code",
   "execution_count": 3,
   "metadata": {},
   "outputs": [],
   "source": [
    "class VariableAleatoria(object):\n",
    "    \"\"\"Interface\"\"\"\n",
    "    def __init__(self):\n",
    "        \"\"\"\n",
    "        Esto representa el constructor de cada clase. Sobre-escríbalo a su gusto\n",
    "        \"\"\"\n",
    "        pass\n",
    "    def generar(self):\n",
    "        '''\n",
    "        Este método permite generar variables aleatorias\n",
    "        '''\n",
    "        pass\n",
    "    def presentar(self):\n",
    "        print(\"Hola, soy una Interface\")\n",
    "\n",
    "class Exponencial(VariableAleatoria):\n",
    "    def __init__(self, lam):\n",
    "        \"\"\" Sobre-escribe Constructor\n",
    "        Parametros:\n",
    "        -----------\n",
    "        * lam = el valor lambda\n",
    "        \"\"\"\n",
    "        super().__init__()\n",
    "        self.lam = lam\n",
    "\n",
    "    def generar(self):\n",
    "        \"\"\" Sobre-escribe Método\n",
    "        Return:\n",
    "        -------\n",
    "        Una variable aleatoria exponencial\n",
    "        \"\"\"\n",
    "        return np.random.exponential(self.lam)\n",
    "\n",
    "class Uniforme(VariableAleatoria):\n",
    "    def __init__(self, a, b):\n",
    "        self.a = a\n",
    "        self.b = b\n",
    "        \n",
    "    def generar(self):\n",
    "        return np.random.uniform(self.a,self.b)\n",
    "\n",
    "class Erlang(VariableAleatoria):\n",
    "    def __init__(self, lam, k):\n",
    "        self.lam = lam\n",
    "        self.k = k\n",
    "        self.expo = Exponential(lam)\n",
    "\n",
    "    def generar(self):\n",
    "        total = 0\n",
    "        for i in range(self.k):\n",
    "            total += self.expo.generate()\n",
    "        return total"
   ]
  },
  {
   "cell_type": "markdown",
   "metadata": {},
   "source": [
    "Una vez implementadas las clases, podemos crear una clase adicional que nos permita realizar una suma de distribuciones."
   ]
  },
  {
   "cell_type": "code",
   "execution_count": 4,
   "metadata": {},
   "outputs": [],
   "source": [
    "class SumDist(object):\n",
    "    '''\n",
    "    Esta clase permite sumar variables aleatorias que dispongan de un método generar\n",
    "    '''\n",
    "    def __init__(self,lista_dist):\n",
    "        '''\n",
    "        Input:\n",
    "        ------\n",
    "        * list_dist: Una lista que en cada celda contiene un objeto de las clases anteriormente definidas\n",
    "        '''\n",
    "        self.list_dist = lista_dist\n",
    "\n",
    "    def generar(self,n):\n",
    "        '''\n",
    "        Este método permite generar la convolución de variables aleatorias.\n",
    "        \n",
    "        Input:\n",
    "        ------\n",
    "        \n",
    "        * n = El numero de variables a generar por cada distribución\n",
    "        \n",
    "        Return:\n",
    "        -------\n",
    "        \n",
    "        * n_list = Una lista con n variables que son el resultado de sumar las realizaciones de las distribuciones\n",
    "                    pasadas al constructor de la clase.\n",
    "        '''\n",
    "        n_list = []\n",
    "        for i in range(n):\n",
    "            n_list.append(sum([x.generar() for x in self.list_dist]))\n",
    "        return n_list"
   ]
  },
  {
   "cell_type": "code",
   "execution_count": 5,
   "metadata": {},
   "outputs": [
    {
     "name": "stdout",
     "output_type": "stream",
     "text": [
      "Help on class Exponencial in module __main__:\n",
      "\n",
      "class Exponencial(VariableAleatoria)\n",
      " |  Interface\n",
      " |  \n",
      " |  Method resolution order:\n",
      " |      Exponencial\n",
      " |      VariableAleatoria\n",
      " |      builtins.object\n",
      " |  \n",
      " |  Methods defined here:\n",
      " |  \n",
      " |  __init__(self, lam)\n",
      " |      Sobre-escribe Constructor\n",
      " |      Parametros:\n",
      " |      -----------\n",
      " |      * lam = el valor lambda\n",
      " |  \n",
      " |  generar(self)\n",
      " |      Sobre-escribe Método\n",
      " |      Return:\n",
      " |      -------\n",
      " |      Una variable aleatoria exponencial\n",
      " |  \n",
      " |  ----------------------------------------------------------------------\n",
      " |  Methods inherited from VariableAleatoria:\n",
      " |  \n",
      " |  presentar(self)\n",
      " |  \n",
      " |  ----------------------------------------------------------------------\n",
      " |  Data descriptors inherited from VariableAleatoria:\n",
      " |  \n",
      " |  __dict__\n",
      " |      dictionary for instance variables (if defined)\n",
      " |  \n",
      " |  __weakref__\n",
      " |      list of weak references to the object (if defined)\n",
      "\n"
     ]
    }
   ],
   "source": [
    "help(Exponencial)"
   ]
  },
  {
   "cell_type": "code",
   "execution_count": 14,
   "metadata": {},
   "outputs": [
    {
     "name": "stdout",
     "output_type": "stream",
     "text": [
      "0.18862788517506568\n",
      "Hola, soy una Interface\n"
     ]
    }
   ],
   "source": [
    "unif = Uniforme(0,1)\n",
    "rvunif = unif.generar()\n",
    "print(rvunif)\n",
    "unif.presentar()"
   ]
  },
  {
   "cell_type": "markdown",
   "metadata": {},
   "source": [
    "### Convolución de variables aleatorias uniformes"
   ]
  },
  {
   "cell_type": "code",
   "execution_count": 15,
   "metadata": {},
   "outputs": [
    {
     "data": {
      "image/png": "[encoded data removed]",
      "text/plain": [
       "<matplotlib.figure.Figure at 0x1bb8a07edd8>"
      ]
     },
     "metadata": {},
     "output_type": "display_data"
    }
   ],
   "source": [
    "### Plots (este código se puede hacer mucho mas eficiente, ya que solo cambia un valor por cada bloque)\n",
    "plt.figure(figsize=(15,8))  \n",
    "plt.subplot(221)\n",
    "lista=[Uniforme(0,1) for i in range(2)]\n",
    "conv = SumDist(lista)\n",
    "out = conv.generar(50000)\n",
    "plt.hist(out)\n",
    "plt.xlabel('$x$')\n",
    "plt.ylabel(r'$Frecuencia$')\n",
    "plt.title(r'Histograma de la convolución de 2 uniformes')\n",
    "\n",
    "plt.subplot(222)\n",
    "lista=[Uniforme(0,1) for i in range(6)]\n",
    "conv = SumDist(lista)\n",
    "out = conv.generar(50000)\n",
    "plt.hist(out)\n",
    "plt.xlabel('$x$')\n",
    "plt.ylabel(r'$Frecuencia$')\n",
    "plt.title(r'Histograma de la convolución de 6 uniformes')\n",
    "\n",
    "plt.subplot(223)\n",
    "lista=[Uniforme(0,1) for i in range(20)]\n",
    "conv = SumDist(lista)\n",
    "out = conv.generar(50000)\n",
    "plt.hist(out)\n",
    "plt.xlabel('$x$')\n",
    "plt.ylabel(r'$Frecuencia$')\n",
    "plt.title(r'Histograma de la convolución de 20 uniformes')\n",
    "\n",
    "plt.subplot(224)\n",
    "lista=[Uniforme(0,1) for i in range(100)]\n",
    "conv = SumDist(lista)\n",
    "out = conv.generar(50000)\n",
    "plt.hist(out)\n",
    "plt.xlabel('$x$')\n",
    "plt.ylabel(r'$Frecuencia$')\n",
    "plt.title(r'Histograma de la convolución de 100 uniformes')\n",
    "plt.tight_layout()"
   ]
  },
  {
   "cell_type": "markdown",
   "metadata": {},
   "source": [
    "### Convolución de variables aleatorias Exponenciales"
   ]
  },
  {
   "cell_type": "code",
   "execution_count": 10,
   "metadata": {},
   "outputs": [
    {
     "data": {
      "image/png": "[encoded data removed]",
      "text/plain": [
       "<matplotlib.figure.Figure at 0x1bb85274780>"
      ]
     },
     "metadata": {},
     "output_type": "display_data"
    }
   ],
   "source": [
    "### Plots\n",
    "plt.figure(figsize=(15,8))  \n",
    "plt.subplot(221)\n",
    "lista=[Exponencial(5) for i in range(2)]\n",
    "conv = SumDist(lista)\n",
    "out = conv.generar(50000)\n",
    "plt.hist(out)\n",
    "plt.xlabel('$x$')\n",
    "plt.ylabel(r'$Frecuencia$')\n",
    "plt.title(r'Histograma de la convolución de 2 exponenciales')\n",
    "\n",
    "plt.subplot(222)\n",
    "lista=[Exponencial(5) for i in range(6)]\n",
    "conv = SumDist(lista)\n",
    "out = conv.generar(50000)\n",
    "plt.hist(out)\n",
    "plt.xlabel('$x$')\n",
    "plt.ylabel(r'$Frecuencia$')\n",
    "plt.title(r'Histograma de la convolución de 6 exponenciales')\n",
    "\n",
    "plt.subplot(223)\n",
    "lista=[Exponencial(5) for i in range(20)]\n",
    "conv = SumDist(lista)\n",
    "out = conv.generar(50000)\n",
    "plt.hist(out)\n",
    "plt.xlabel('$x$')\n",
    "plt.ylabel(r'$Frecuencia$')\n",
    "plt.title(r'Histograma de la convolución de 20 exponenciales')\n",
    "\n",
    "plt.subplot(224)\n",
    "lista=[Exponencial(5) for i in range(100)]\n",
    "conv = SumDist(lista)\n",
    "out = conv.generar(50000)\n",
    "plt.hist(out)\n",
    "plt.xlabel('$x$')\n",
    "plt.ylabel(r'$Frecuencia$')\n",
    "plt.title(r'Histograma de la convolución de 100 exponenciales')\n",
    "plt.tight_layout()"
   ]
  },
  {
   "cell_type": "markdown",
   "metadata": {},
   "source": [
    "### Convolución de una variable Uniforme y una Exponencial"
   ]
  },
  {
   "cell_type": "code",
   "execution_count": 44,
   "metadata": {},
   "outputs": [],
   "source": [
    "'''\n",
    "import base64\n",
    "import io\n",
    "import matplotlib.pyplot as plt\n",
    "import ipywidgets as widgets\n",
    "from IPython.display import display\n",
    "\n",
    "def conv(lamb=2):\n",
    "    plt.figure(figsize=(8,8))  \n",
    "    lista=[Exponencial(lamb), Uniforme(0,10)]\n",
    "    conv = SumDist(lista)\n",
    "    out = conv.generar(50000)\n",
    "    plt.hist(out)\n",
    "    plt.xlabel('$x$')\n",
    "    plt.ylabel(r'$Frecuencia$')\n",
    "    plt.title(r'Histograma de la convolucion de una Exponencial y una Uniforme')\n",
    "    output1HTML.value = plot_to_html()\n",
    "    plt.close()\n",
    "#widgets.interact(conv, lamb=(1,10,0.1))\n",
    "\n",
    "def plot_to_html():\n",
    "    # write image data to a string buffer and get the PNG image bytes\n",
    "    buf = io.BytesIO()\n",
    "    plt.savefig(buf, format='png')\n",
    "    buf.seek(0)\n",
    "    return \"\"\"<img src='data:image/png;base64,{}'/>\"\"\".format(base64.b64encode(buf.getvalue()).decode('ascii'))\n",
    "\n",
    "plt.ioff()\n",
    "\n",
    "heading1HTML = widgets.HTML(\"\"\"<h1>&lambda;</h1>\"\"\")\n",
    "input1Float = widgets.FloatSlider(value=2, min=0.0, max=10, step=0.01, description=\"lambda: \")\n",
    "widgets.interactive(conv, lamb=input1Float)\n",
    "output1HTML = widgets.HTML()\n",
    "\n",
    "display(widgets.Box([heading1HTML, input1Float, output1HTML]))\n",
    "conv(input1Float.value)\n",
    "'''"
   ]
  },
  {
   "cell_type": "code",
   "execution_count": 11,
   "metadata": {},
   "outputs": [
    {
     "data": {
      "application/vnd.jupyter.widget-view+json": {
       "model_id": "f5d72cef499e440ea3bf9cec1b99635c",
       "version_major": 2,
       "version_minor": 0
      },
      "text/html": [
       "<p>Failed to display Jupyter Widget of type <code>Box</code>.</p>\n",
       "<p>\n",
       "  If you're reading this message in the Jupyter Notebook or JupyterLab Notebook, it may mean\n",
       "  that the widgets JavaScript is still loading. If this message persists, it\n",
       "  likely means that the widgets JavaScript library is either not installed or\n",
       "  not enabled. See the <a href=\"https://ipywidgets.readthedocs.io/en/stable/user_install.html\">Jupyter\n",
       "  Widgets Documentation</a> for setup instructions.\n",
       "</p>\n",
       "<p>\n",
       "  If you're reading this message in another frontend (for example, a static\n",
       "  rendering on GitHub or <a href=\"https://nbviewer.jupyter.org/\">NBViewer</a>),\n",
       "  it may mean that your frontend doesn't currently support widgets.\n",
       "</p>\n"
      ],
      "text/plain": [
       "Box(children=(HTML(value='<h1>&lambda;</h1>'),))"
      ]
     },
     "metadata": {},
     "output_type": "display_data"
    },
    {
     "data": {
      "application/vnd.jupyter.widget-view+json": {
       "model_id": "3c4d29da94b44d7282ce420a46b986c4",
       "version_major": 2,
       "version_minor": 0
      },
      "text/html": [
       "<p>Failed to display Jupyter Widget of type <code>interactive</code>.</p>\n",
       "<p>\n",
       "  If you're reading this message in the Jupyter Notebook or JupyterLab Notebook, it may mean\n",
       "  that the widgets JavaScript is still loading. If this message persists, it\n",
       "  likely means that the widgets JavaScript library is either not installed or\n",
       "  not enabled. See the <a href=\"https://ipywidgets.readthedocs.io/en/stable/user_install.html\">Jupyter\n",
       "  Widgets Documentation</a> for setup instructions.\n",
       "</p>\n",
       "<p>\n",
       "  If you're reading this message in another frontend (for example, a static\n",
       "  rendering on GitHub or <a href=\"https://nbviewer.jupyter.org/\">NBViewer</a>),\n",
       "  it may mean that your frontend doesn't currently support widgets.\n",
       "</p>\n"
      ],
      "text/plain": [
       "interactive(children=(FloatSlider(value=2.0, description='$\\\\lambda$:', max=10.0, min=1.0, step=1.0), Output()), _dom_classes=('widget-interact',))"
      ]
     },
     "metadata": {},
     "output_type": "display_data"
    }
   ],
   "source": [
    "def conv(lamb=2):\n",
    "    plt.figure(figsize=(8,8))  \n",
    "    lista=[Exponencial(lamb), Uniforme(0,10)]\n",
    "    conv = SumDist(lista)\n",
    "    out = conv.generar(50000)\n",
    "    plt.hist(out)\n",
    "    plt.xlabel('$x$')\n",
    "    plt.ylabel(r'$Frecuencia$')\n",
    "    plt.title(r'Histograma de la convolucion de una Exponencial y una Uniforme')\n",
    "    plt.show()\n",
    "\n",
    "heading1HTML = widgets.HTML(\"\"\"<h1>&lambda;</h1>\"\"\")\n",
    "input1Float = widgets.FloatSlider(value=2, min=1, max=10, step=1, description=\"$\\lambda$:\", orientation=\"horizontal\")\n",
    "display(widgets.Box([heading1HTML]))\n",
    "widgets.interactive(conv, lamb=input1Float)\n",
    "#widgets.interact(conv, lamb=(1,10,0.1))"
   ]
  },
  {
   "cell_type": "code",
   "execution_count": 39,
   "metadata": {},
   "outputs": [
    {
     "name": "stdout",
     "output_type": "stream",
     "text": [
      "Help on function interactive in module ipywidgets.widgets.interaction:\n",
      "\n",
      "interactive(__interact_f, **kwargs)\n",
      "    Builds a group of interactive widgets tied to a function and places the\n",
      "    group into a Box container.\n",
      "    \n",
      "    Returns\n",
      "    -------\n",
      "    container : a Box instance containing multiple widgets\n",
      "    \n",
      "    Parameters\n",
      "    ----------\n",
      "    __interact_f : function\n",
      "        The function to which the interactive widgets are tied. The `**kwargs`\n",
      "        should match the function signature.\n",
      "    **kwargs : various, optional\n",
      "        An interactive widget is created for each keyword argument that is a\n",
      "        valid widget abbreviation.\n",
      "\n"
     ]
    }
   ],
   "source": [
    "help(widgets.interactive)"
   ]
  },
  {
   "cell_type": "code",
   "execution_count": null,
   "metadata": {
    "collapsed": true
   },
   "outputs": [],
   "source": []
  }
 ],
 "metadata": {
  "anaconda-cloud": {},
  "kernelspec": {
   "display_name": "Python 3",
   "language": "python",
   "name": "python3"
  },
  "language_info": {
   "codemirror_mode": {
    "name": "ipython",
    "version": 3
   },
   "file_extension": ".py",
   "mimetype": "text/x-python",
   "name": "python",
   "nbconvert_exporter": "python",
   "pygments_lexer": "ipython3",
   "version": "3.5.4"
  }
 },
 "nbformat": 4,
 "nbformat_minor": 1
}
